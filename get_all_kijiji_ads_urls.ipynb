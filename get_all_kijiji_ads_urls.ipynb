{
  "nbformat": 4,
  "nbformat_minor": 0,
  "metadata": {
    "colab": {
      "name": "get_all_kijiji_ads_urls.ipynb",
      "provenance": [],
      "authorship_tag": "ABX9TyMCRvXLPKv5lajNyCM9VmF1",
      "include_colab_link": true
    },
    "kernelspec": {
      "name": "python3",
      "display_name": "Python 3"
    }
  },
  "cells": [
    {
      "cell_type": "markdown",
      "metadata": {
        "id": "view-in-github",
        "colab_type": "text"
      },
      "source": [
        "<a href=\"https://colab.research.google.com/github/simonprudhomme/rent_guesser/blob/main/get_all_kijiji_ads_urls.ipynb\" target=\"_parent\"><img src=\"https://colab.research.google.com/assets/colab-badge.svg\" alt=\"Open In Colab\"/></a>"
      ]
    },
    {
      "cell_type": "code",
      "metadata": {
        "id": "M6qKrcrfNmVy",
        "outputId": "22299341-04cc-4fae-a88f-1ef4a643ea76",
        "colab": {
          "base_uri": "https://localhost:8080/",
          "height": 68
        }
      },
      "source": [
        "! pip install pip install beautifulsoup4"
      ],
      "execution_count": 11,
      "outputs": [
        {
          "output_type": "stream",
          "text": [
            "Requirement already satisfied: pip in /usr/local/lib/python3.6/dist-packages (19.3.1)\n",
            "Requirement already satisfied: install in /usr/local/lib/python3.6/dist-packages (1.3.4)\n",
            "Requirement already satisfied: beautifulsoup4 in /usr/local/lib/python3.6/dist-packages (4.6.3)\n"
          ],
          "name": "stdout"
        }
      ]
    },
    {
      "cell_type": "code",
      "metadata": {
        "id": "MkOSyWBJNW1G"
      },
      "source": [
        "# kijiji Crawler\n",
        "\n",
        "import pandas as pd\n",
        "from bs4 import BeautifulSoup\n",
        "import requests\n",
        "import time\n",
        "from tqdm import tqdm"
      ],
      "execution_count": 12,
      "outputs": []
    },
    {
      "cell_type": "code",
      "metadata": {
        "id": "mKdcAqiXh_7J"
      },
      "source": [
        "def get_urls_from_one_page(ads_urls_list, page_url):  \n",
        "  page = requests.get(page_url)\n",
        "  soup = BeautifulSoup(page.content, 'html.parser')\n",
        "  containers = soup.find_all(\"div\", class_=\"info-container\")\n",
        "  for container in containers:\n",
        "    ads_urls_list.append(container.find('a')['href'])\n",
        "  return ads_urls_list\n",
        "\n",
        "def get_total_number_page_to_crawl():\n",
        "  page_url = 'https://www.kijiji.ca/b-appartement-condo/quebec/page-{}/c37l9001?ad=offering'.format(1000)\n",
        "  page = requests.get(page_url)\n",
        "  soup = BeautifulSoup(page.content, 'html.parser')\n",
        "  max_page_number = soup.find_all('span', attrs={'class':'selected'})[0].text\n",
        "  print('Number of pages to craw:',max_page_number)\n",
        "  return max_page_number\n",
        "\n",
        "def run():\n",
        "  ads_urls_list = []\n",
        "  max_page_number = get_total_number_page_to_crawl()\n",
        "  for num in tqdm(range(1,int(max_page_number)+1,1)):\n",
        "    time.sleep(2)\n",
        "    page_url = 'https://www.kijiji.ca/b-appartement-condo/quebec/page-{}/c37l9001?ad=offering'.format(num)\n",
        "    try:\n",
        "      ads_urls_list = get_urls_from_one_page(ads_urls_list, page_url)\n",
        "      print('Urls list length:',len(ads_urls_list))\n",
        "    except Exception as e:\n",
        "      print(e)\n",
        "      continue\n",
        "  #TODO: save ads_urls_list as JSON file\n",
        "  \n",
        "  return ads_urls_list"
      ],
      "execution_count": 8,
      "outputs": []
    },
    {
      "cell_type": "code",
      "metadata": {
        "id": "jmHrdHz-SWFo"
      },
      "source": [
        "ads_urls_list = run()"
      ],
      "execution_count": 13,
      "outputs": []
    }
  ]
}