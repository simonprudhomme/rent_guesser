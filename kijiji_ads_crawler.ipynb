{
 "cells": [
  {
   "cell_type": "code",
   "execution_count": 16,
   "metadata": {
    "colab": {
     "base_uri": "https://localhost:8080/",
     "height": 368
    },
    "id": "H5I9sQkjavad",
    "outputId": "59c1e516-1695-4a38-bb9b-767d4b4bdf9a"
   },
   "outputs": [],
   "source": [
    "# Ads Crawler\n",
    "\n",
    "import pandas as pd\n",
    "import numpy as np\n",
    "import time\n",
    "import json\n",
    "import re\n",
    "\n",
    "from selenium import webdriver\n",
    "from selenium.webdriver.common.keys import Keys\n",
    "from selenium.webdriver.chrome.options import Options\n",
    "chrome_options = Options()  \n",
    "chrome_options.add_argument(\"--headless\")\n",
    "chrome_options.add_experimental_option('prefs', {'intl.accept_languages': 'en,en_US'})"
   ]
  },
  {
   "cell_type": "code",
   "execution_count": 8,
   "metadata": {},
   "outputs": [],
   "source": [
    "page_url = \"https://www.kijiji.ca/v-appartement-condo/longueuil-rive-sud/wow-superbe-condo-dix30-brossard-2-chambres-dernier-etage/1528902338\"\n",
    "driver = webdriver.Chrome(options=chrome_options, executable_path=\"/Applications/chromedriver\")\n",
    "driver.get(page_url)"
   ]
  },
  {
   "cell_type": "code",
   "execution_count": 9,
   "metadata": {},
   "outputs": [],
   "source": [
    "config = {\n",
    "    \"fumeur_xpath\":'//*[@id=\"vip-body\"]/div[3]/div[2]/div/div/div[2]/ul/li[6]/dl/dd',\n",
    "     'electricite_xpath':'//*[@id=\"vip-body\"]/div[3]/div[2]/div/div/div[1]/ul/li[1]/div/ul/li[1]',\n",
    "     \"chauffage_xpath\" :'//*[@id=\"vip-body\"]/div[3]/div[2]/div/div/div[1]/ul/li[1]/div/ul/li[2]',\n",
    "     \"eau_xpath\" : '//*[@id=\"vip-body\"]/div[3]/div[2]/div/div/div[1]/ul/li[1]/div/ul/li[3]',\n",
    "     \"wifi_xpath\" : '//*[@id=\"vip-body\"]/div[3]/div[2]/div/div/div[1]/ul/li[2]/div/ul',\n",
    "     \"animaux_xpath\" : '//*[@id=\"vip-body\"]/div[3]/div[2]/div/div/div[1]/ul/li[6]/dl/dd',\n",
    "     \"stationnement_xpath\" : '//*[@id=\"vip-body\"]/div[3]/div[2]/div/div/div[1]/ul/li[3]/dl/dd',\n",
    "     \"size_xpath\" : '//*[@id=\"vip-body\"]/div[3]/div[2]/div/div/div[2]/ul/li[1]/dl/dd',\n",
    "     \"meuble_xpath\" : '//*[@id=\"vip-body\"]/div[3]/div[2]/div/div/div[2]/ul/li[2]/dl/dd',\n",
    "     \"buandrie_xpath\" : '//*[@id=\"vip-body\"]/div[3]/div[2]/div/div/div[2]/ul/li[3]/div/ul/li[2]',\n",
    "     \"lavevaiselle_xpath\" : '//*[@id=\"vip-body\"]/div[3]/div[2]/div/div/div[2]/ul/li[3]/div/ul/li[3]',\n",
    "     \"refrigerateur_xpath\" : '//*[@id=\"vip-body\"]/div[3]/div[2]/div/div/div[2]/ul/li[3]/div/ul/li[4]',\n",
    "     \"air_conditionne_xpath\" : '//*[@id=\"vip-body\"]/div[3]/div[2]/div/div/div[2]/ul/li[4]/dl/dd'\n",
    "        }"
   ]
  },
  {
   "cell_type": "code",
   "execution_count": 10,
   "metadata": {},
   "outputs": [],
   "source": [
    "config_2 = {\n",
    "    'ad_content' : '//*[@id=\"vip-body\"]/div[4]/div/div[1]/div/div',\n",
    "    'address' : '//*[@id=\"vip-body\"]/div[2]/div[2]/div[1]/span',\n",
    "    'pieces' : '//*[@id=\"vip-body\"]/div[2]/div[3]/div/li[2]/span',\n",
    "    'prix' : '//*[@id=\"vip-body\"]/div[2]/div[1]/div/span[1]',\n",
    "    'nombre_de_vues' : '//*[@id=\"vip-body\"]/div[5]/span/span'}"
   ]
  },
  {
   "cell_type": "code",
   "execution_count": 11,
   "metadata": {},
   "outputs": [],
   "source": [
    "def edit_xpath(num, xpath):\n",
    "    list_xpath = list(xpath)\n",
    "    list_xpath[24] = str(num)\n",
    "    new_xpath = \"\".join(list_xpath)\n",
    "    return new_xpath\n",
    "\n",
    "def get_element(results, xpath, name):\n",
    "    dict_ = {}\n",
    "    try: \n",
    "        num = 3\n",
    "        xpath_ = edit_xpath(num, xpath)\n",
    "        dict_[name] = driver.find_element_by_xpath(xpath_).text\n",
    "    except Exception as e:\n",
    "        try :\n",
    "            num = 4\n",
    "            xpath_ = edit_xpath(num, xpath)\n",
    "            dict_[name] = driver.find_element_by_xpath(xpath_).text\n",
    "        except Exception as e:\n",
    "            dict_[name] = ''\n",
    "    results = {**results,**dict_}\n",
    "    return results\n",
    "\n",
    "def get_element_2(results, xpath, name):\n",
    "    dict_ = {}\n",
    "    try: \n",
    "        dict_[name] = driver.find_element_by_xpath(xpath).text\n",
    "    except Exception as e:\n",
    "        dict_[name] = ''\n",
    "    results = {**results,**dict_}\n",
    "    return results"
   ]
  },
  {
   "cell_type": "code",
   "execution_count": 12,
   "metadata": {},
   "outputs": [],
   "source": [
    "def run(config, config_2):\n",
    "    results = {}\n",
    "    for name_, xpath_ in config.items():\n",
    "        results = get_element(results, xpath = xpath_, name = name_)\n",
    "    results\n",
    "    try:\n",
    "        driver.find_element_by_xpath('//*[@id=\"vip-body\"]/div[4]/div/button').click()\n",
    "    except Exception as e :\n",
    "        pass\n",
    "        \n",
    "    for name_2, xpath_2 in config_2.items():\n",
    "        results = get_element_2(results, xpath = xpath_2 , name = name_2)\n",
    "    return results"
   ]
  },
  {
   "cell_type": "code",
   "execution_count": 13,
   "metadata": {},
   "outputs": [
    {
     "data": {
      "text/plain": [
       "'1528902338'"
      ]
     },
     "execution_count": 13,
     "metadata": {},
     "output_type": "execute_result"
    }
   ],
   "source": [
    "page_url_1 = \"https://www.kijiji.ca/v-appartement-condo/longueuil-rive-sud/wow-superbe-condo-dix30-brossard-2-chambres-dernier-etage/1528902338\"\n",
    "page_url_1.split('/')[-1]\n"
   ]
  },
  {
   "cell_type": "code",
   "execution_count": 17,
   "metadata": {},
   "outputs": [
    {
     "name": "stdout",
     "output_type": "stream",
     "text": [
      "{'fumeur_xpath': \"Seulement à l'extérieur\", 'electricite_xpath': '', 'chauffage_xpath': '', 'eau_xpath': '', 'wifi_xpath': 'Non inclus', 'animaux_xpath': 'Limité', 'stationnement_xpath': '1', 'size_xpath': '925', 'meuble_xpath': 'Non', 'buandrie_xpath': '', 'lavevaiselle_xpath': '', 'refrigerateur_xpath': '', 'air_conditionne_xpath': 'Oui', 'ad_content': 'Condo à louer disponible à partir du 21 novembre\\n-Construction 2017\\n-6e et dernier étage\\n-2 chambres a coucher\\n-2 salles de bain\\n-Stationnement intérieur et locker\\n-Proche de tout les services et autoroutes\\n-Rooftop terrasse\\n-piscine extérieur\\n-enquête de crédit\\n-Rien d’inclus\\n-Air climatisé\\n-Très grand balcon\\n-Je cède mon bail qui ce termine en juillet 2021, vous pourrez renouveler si vous voulez\\nSVP prendre note que les visites ce feront seulement entre le vendredi soir 16 octobre au dimanche soir le 18 octobre.\\nI speak English too', 'address': '8255 Boulevard Leduc, Brossard, QC J4Y 3H6, Canada', 'pieces': 'Pièces: 4 1/2', 'prix': '1 540,00 $', 'nombre_de_vues': '235'}\n",
      "{'fumeur_xpath': 'Non', 'electricite_xpath': '', 'chauffage_xpath': '', 'eau_xpath': '', 'wifi_xpath': 'Non inclus', 'animaux_xpath': 'Non', 'stationnement_xpath': '1', 'size_xpath': '630', 'meuble_xpath': 'Oui', 'buandrie_xpath': '', 'lavevaiselle_xpath': 'Lave-vaisselle', 'refrigerateur_xpath': 'Réfrigérateur / congélateur', 'air_conditionne_xpath': 'Oui', 'ad_content': 'Grand 3 1/2 entièrement meublé\\nVue sur Montreal\\nStationnement intérieur\\nSalle de sport\\nPossibilité de location dès novembre\\nA voir!', 'address': 'J4K0B2, Canada', 'pieces': 'Pièces: 3 1/2', 'prix': '1 390,00 $', 'nombre_de_vues': '31'}\n"
     ]
    }
   ],
   "source": [
    "page_url_1 = \"https://www.kijiji.ca/v-appartement-condo/longueuil-rive-sud/wow-superbe-condo-dix30-brossard-2-chambres-dernier-etage/1528902338\"\n",
    "page_url_2 = \"https://www.kijiji.ca/v-appartement-condo/longueuil-rive-sud/condo-meuble-metro-longueuil/1529680803?undefined\"\n",
    "\n",
    "for page_url in [page_url_1,page_url_2]:\n",
    "    driver = webdriver.Chrome(options=chrome_options, executable_path=\"/Applications/chromedriver\")\n",
    "    driver.get(page_url)\n",
    "    time.sleep(np.random.randint(5))\n",
    "    results = run(config, config_2)\n",
    "    print(results)\n",
    "    filename = re.sub(\"[^0-9]\", \"\",page_url.split('/')[-1])\n",
    "    with open(filename+'.json', 'w') as fp:\n",
    "        json.dump(results, fp)"
   ]
  },
  {
   "cell_type": "code",
   "execution_count": null,
   "metadata": {},
   "outputs": [],
   "source": []
  }
 ],
 "metadata": {
  "colab": {
   "collapsed_sections": [],
   "name": "kijiji_ads_crawler.ipynb",
   "provenance": []
  },
  "kernelspec": {
   "display_name": "Python 3",
   "language": "python",
   "name": "python3"
  },
  "language_info": {
   "codemirror_mode": {
    "name": "ipython",
    "version": 3
   },
   "file_extension": ".py",
   "mimetype": "text/x-python",
   "name": "python",
   "nbconvert_exporter": "python",
   "pygments_lexer": "ipython3",
   "version": "3.6.8"
  }
 },
 "nbformat": 4,
 "nbformat_minor": 1
}
